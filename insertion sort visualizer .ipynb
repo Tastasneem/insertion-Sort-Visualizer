{
 "cells": [
  {
   "cell_type": "code",
   "execution_count": 1,
   "id": "1bcd5ee7",
   "metadata": {},
   "outputs": [
    {
     "name": "stdout",
     "output_type": "stream",
     "text": [
      "pygame 2.1.2 (SDL 2.0.18, Python 3.9.12)\n",
      "Hello from the pygame community. https://www.pygame.org/contribute.html\n"
     ]
    },
    {
     "data": {
      "text/plain": [
       "(5, 0)"
      ]
     },
     "execution_count": 1,
     "metadata": {},
     "output_type": "execute_result"
    }
   ],
   "source": [
    "import pygame\n",
    "import math\n",
    "import random\n",
    "pygame.init()"
   ]
  },
  {
   "cell_type": "code",
   "execution_count": 2,
   "id": "fa10b632",
   "metadata": {},
   "outputs": [],
   "source": [
    "class DrawInfo:\n",
    "    black = 0,0,0\n",
    "    white= 255,255,255\n",
    "    red=255,0,0\n",
    "    green = 0, 255, 0\n",
    "    bgcolor = white\n",
    "    greys = [ (128,128,128),\n",
    "             (160,160,160),\n",
    "             (190,190,190) ]\n",
    "    side_pad=100 #for both sides\n",
    "    top_pad= 150 \n",
    "    \n",
    "    font = pygame.font.SysFont('comicsans', 20)\n",
    "    large_font = pygame.font.SysFont('comicsans', 30)\n",
    "    \n",
    "    def __init__(self, width, height, lst):\n",
    "        self.width=width\n",
    "        self.height=height\n",
    "        \n",
    "        self.window = pygame.display.set_mode((width,height))\n",
    "        pygame.display.set_caption(\"Sorting Algorithm Visualizer\")\n",
    "        self.set_list(lst)\n",
    "    \n",
    "    def set_list(self, lst):\n",
    "        self.lst = lst\n",
    "        self.max_val = max(lst)\n",
    "        self.min_val = min(lst)\n",
    "        \n",
    "        self.block_width= round((self.width - self.side_pad ) / len(lst))\n",
    "        self.block_height = math.floor((self.height- self.top_pad) / (self.max_val - self.min_val ))\n",
    "        self.start_x =self.side_pad // 2"
   ]
  },
  {
   "cell_type": "code",
   "execution_count": 3,
   "id": "0f0a8172",
   "metadata": {},
   "outputs": [],
   "source": [
    "#generate a list\n",
    "\n",
    "def generate_list(n,min_val,max_val): #n= arr size\n",
    "    lst =[]\n",
    "    for _ in range(n):\n",
    "        val= random.randint(min_val,max_val)\n",
    "        lst.append(val)\n",
    "    return lst\n"
   ]
  },
  {
   "cell_type": "code",
   "execution_count": 4,
   "id": "8edb69dd",
   "metadata": {},
   "outputs": [],
   "source": [
    "#draw the list\n",
    "def draw_list(draw_info,color_positions={}, clear_bg=False):\n",
    "    lst = draw_info.lst\n",
    "    \n",
    "    if clear_bg:\n",
    "        clear_rect = (draw_info.side_pad//2, draw_info.top_pad, \n",
    "                        draw_info.width - draw_info.side_pad, draw_info.height - draw_info.top_pad)\n",
    "        pygame.draw.rect(draw_info.window, draw_info.bgcolor, clear_rect)\n",
    "\n",
    "    for i, val in enumerate(lst):\n",
    "        x= draw_info.start_x + i *draw_info.block_width\n",
    "        y= draw_info.height - (val - draw_info.min_val) * draw_info.block_height\n",
    "        color = draw_info.greys[i % 3]\n",
    "        \n",
    "        \n",
    "        if i in color_positions:\n",
    "            color = color_positions[i]\n",
    "            \n",
    "        pygame.draw.rect(draw_info.window, color, (x,y,draw_info.block_width,draw_info.height))\n",
    "        \n",
    "    if clear_bg:\n",
    "        pygame.display.update()"
   ]
  },
  {
   "cell_type": "code",
   "execution_count": 5,
   "id": "2288a21a",
   "metadata": {},
   "outputs": [],
   "source": [
    "#draw the screen\n",
    "def draw(draw_info, algo_name, ascending):\n",
    "    draw_info.window.fill(draw_info.bgcolor)\n",
    "    title = draw_info.large_font.render(f\"{algo_name} - {'Ascending' if ascending else 'Descending'}\", 1, draw_info.green)\n",
    "    draw_info.window.blit(title, (draw_info.width/2 - title.get_width()/2 , 8))\n",
    "\n",
    "    controls= draw_info.font.render(\"PRESS: SPACE = Start Sorting | R = Reset | A = Ascending | D = Descending\",\n",
    "                                    1, draw_info.black)\n",
    "    draw_info.window.blit(controls , (draw_info.width/2 - controls.get_width()/2 ,45))\n",
    "    draw_list(draw_info)\n",
    "    pygame.display.update()"
   ]
  },
  {
   "cell_type": "code",
   "execution_count": 6,
   "id": "be477559",
   "metadata": {},
   "outputs": [],
   "source": [
    "def insertin_sort(draw_info , ascending = True):\n",
    "    lst = draw_info.lst\n",
    "    for i in range(1, len(lst)):\n",
    "        current = lst[i]\n",
    "\n",
    "        while True:\n",
    "            ascending_sort = i > 0 and lst[i - 1] > current and ascending\n",
    "            descending_sort = i > 0 and lst[i - 1] < current and not ascending\n",
    "\n",
    "            if not ascending_sort and not descending_sort:\n",
    "                break\n",
    "\n",
    "            lst[i] = lst[i - 1]\n",
    "            i = i - 1\n",
    "            lst[i] = current\n",
    "            draw_list(draw_info, {i - 1: draw_info.green, i: draw_info.red}, True) #red is being sorted, green is comparing\n",
    "            yield True\n",
    "\n",
    "    return lst\n"
   ]
  },
  {
   "cell_type": "code",
   "execution_count": 7,
   "id": "f9ad9245",
   "metadata": {},
   "outputs": [],
   "source": [
    "def main():\n",
    "    run = True\n",
    "    clock = pygame.time.Clock()\n",
    "    sorting = False\n",
    "    ascending = True\n",
    "    \n",
    "    sorting_algorithm = insertin_sort\n",
    "    sorting_algo_name = \"Insertion Sort\"\n",
    "    sorting_algorithm_generator = None\n",
    "    \n",
    "    #generate_list vars\n",
    "    n= 50\n",
    "    min_val=0\n",
    "    max_val=100\n",
    "    \n",
    "    \n",
    "    lst= generate_list(n, min_val, max_val)\n",
    "    draw_info = DrawInfo(800, 600,lst)#width, height, lst\n",
    "    \n",
    "    while run:\n",
    "        clock.tick(10)\n",
    "        \n",
    "        if sorting:\n",
    "            try:\n",
    "                next(sorting_algorithm_generator)\n",
    "            except StopIteration:\n",
    "                sorting = False\n",
    "        else:\n",
    "            draw(draw_info, sorting_algo_name, ascending)\n",
    "            \n",
    "        \n",
    "        for event in pygame.event.get():\n",
    "            if event.type == pygame.QUIT: #for the X button\n",
    "                run = False\n",
    "            \n",
    "            if event.type != pygame.KEYDOWN:\n",
    "                continue\n",
    "            \n",
    "            if event.key == pygame.K_r:\n",
    "                lst= generate_list(n, min_val, max_val)\n",
    "                draw_info.set_list(lst)\n",
    "                sorting = False\n",
    "            elif event.key == pygame.K_SPACE and sorting== False:\n",
    "                sorting = True\n",
    "                sorting_algorithm_generator = sorting_algorithm(draw_info, ascending)\n",
    "            elif event.key == pygame.K_a and not sorting :\n",
    "                ascending = True\n",
    "            elif event.key == pygame.K_d and not sorting :\n",
    "                ascending = False\n",
    "                \n",
    "    pygame.quit()\n",
    "    \n",
    "    \n",
    "if __name__ == \"__main__\":\n",
    "    main()"
   ]
  }
 ],
 "metadata": {
  "kernelspec": {
   "display_name": "Python 3 (ipykernel)",
   "language": "python",
   "name": "python3"
  },
  "language_info": {
   "codemirror_mode": {
    "name": "ipython",
    "version": 3
   },
   "file_extension": ".py",
   "mimetype": "text/x-python",
   "name": "python",
   "nbconvert_exporter": "python",
   "pygments_lexer": "ipython3",
   "version": "3.9.12"
  }
 },
 "nbformat": 4,
 "nbformat_minor": 5
}
